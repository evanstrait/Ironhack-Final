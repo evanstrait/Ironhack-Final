{
  "nbformat": 4,
  "nbformat_minor": 0,
  "metadata": {
    "colab": {
      "provenance": [],
      "include_colab_link": true
    },
    "kernelspec": {
      "name": "python3",
      "display_name": "Python 3"
    },
    "language_info": {
      "name": "python"
    }
  },
  "cells": [
    {
      "cell_type": "markdown",
      "metadata": {
        "id": "view-in-github",
        "colab_type": "text"
      },
      "source": [
        "<a href=\"https://colab.research.google.com/github/evanstrait/Ironhack-Final/blob/main/Final_Project.ipynb\" target=\"_parent\"><img src=\"https://colab.research.google.com/assets/colab-badge.svg\" alt=\"Open In Colab\"/></a>"
      ]
    },
    {
      "cell_type": "code",
      "execution_count": 60,
      "metadata": {
        "colab": {
          "base_uri": "https://localhost:8080/"
        },
        "id": "Mo41aIOOWdCp",
        "outputId": "d6051141-c43c-4ebd-a479-b770f5dfad1e"
      },
      "outputs": [
        {
          "output_type": "stream",
          "name": "stdout",
          "text": [
            "Looking in indexes: https://pypi.org/simple, https://us-python.pkg.dev/colab-wheels/public/simple/\n",
            "Requirement already satisfied: yfinance in /usr/local/lib/python3.8/dist-packages (0.1.87)\n",
            "Requirement already satisfied: pandas>=0.24.0 in /usr/local/lib/python3.8/dist-packages (from yfinance) (1.3.5)\n",
            "Requirement already satisfied: requests>=2.26 in /usr/local/lib/python3.8/dist-packages (from yfinance) (2.28.1)\n",
            "Requirement already satisfied: appdirs>=1.4.4 in /usr/local/lib/python3.8/dist-packages (from yfinance) (1.4.4)\n",
            "Requirement already satisfied: lxml>=4.5.1 in /usr/local/lib/python3.8/dist-packages (from yfinance) (4.9.1)\n",
            "Requirement already satisfied: multitasking>=0.0.7 in /usr/local/lib/python3.8/dist-packages (from yfinance) (0.0.11)\n",
            "Requirement already satisfied: numpy>=1.15 in /usr/local/lib/python3.8/dist-packages (from yfinance) (1.21.6)\n",
            "Requirement already satisfied: python-dateutil>=2.7.3 in /usr/local/lib/python3.8/dist-packages (from pandas>=0.24.0->yfinance) (2.8.2)\n",
            "Requirement already satisfied: pytz>=2017.3 in /usr/local/lib/python3.8/dist-packages (from pandas>=0.24.0->yfinance) (2022.6)\n",
            "Requirement already satisfied: six>=1.5 in /usr/local/lib/python3.8/dist-packages (from python-dateutil>=2.7.3->pandas>=0.24.0->yfinance) (1.15.0)\n",
            "Requirement already satisfied: charset-normalizer<3,>=2 in /usr/local/lib/python3.8/dist-packages (from requests>=2.26->yfinance) (2.1.1)\n",
            "Requirement already satisfied: certifi>=2017.4.17 in /usr/local/lib/python3.8/dist-packages (from requests>=2.26->yfinance) (2022.9.24)\n",
            "Requirement already satisfied: urllib3<1.27,>=1.21.1 in /usr/local/lib/python3.8/dist-packages (from requests>=2.26->yfinance) (1.24.3)\n",
            "Requirement already satisfied: idna<4,>=2.5 in /usr/local/lib/python3.8/dist-packages (from requests>=2.26->yfinance) (2.10)\n"
          ]
        }
      ],
      "source": [
        "pip install yfinance"
      ]
    },
    {
      "cell_type": "code",
      "source": [
        "import matplotlib.pyplot as plt\n",
        "%matplotlib inline\n",
        "\n",
        "from matplotlib.pylab import rcParams\n",
        "rcParams['figure.figsize']=20,10\n",
        "from datetime import datetime\n",
        "from keras.models import Sequential\n",
        "from keras.layers import LSTM,Dropout,Dense\n",
        "from sklearn.preprocessing import MinMaxScaler\n",
        "from google.colab import files\n",
        "import yfinance as yf\n",
        "import pandas as pd\n",
        "import numpy as np\n"
      ],
      "metadata": {
        "id": "Shp69hXGWoI0"
      },
      "execution_count": 61,
      "outputs": []
    },
    {
      "cell_type": "code",
      "source": [
        "lmt = yf.Ticker(\"LMT\")\n",
        "\n",
        "hist = lmt.history(period=\"max\")"
      ],
      "metadata": {
        "id": "gpAJrIlsWvOA"
      },
      "execution_count": null,
      "outputs": []
    },
    {
      "cell_type": "code",
      "source": [
        "hist"
      ],
      "metadata": {
        "colab": {
          "base_uri": "https://localhost:8080/",
          "height": 455
        },
        "id": "m49OckvdWwZV",
        "outputId": "df4487dd-12a7-47d9-c6d7-56110d09666f"
      },
      "execution_count": null,
      "outputs": [
        {
          "output_type": "execute_result",
          "data": {
            "text/plain": [
              "                                 Open        High         Low       Close  \\\n",
              "Date                                                                        \n",
              "1977-01-03 00:00:00-05:00    0.332907    0.337405    0.332907    0.337405   \n",
              "1977-01-04 00:00:00-05:00    0.337405    0.341904    0.319410    0.337405   \n",
              "1977-01-05 00:00:00-05:00    0.337406    0.346403    0.337406    0.346403   \n",
              "1977-01-06 00:00:00-05:00    0.346403    0.364398    0.346403    0.364398   \n",
              "1977-01-07 00:00:00-05:00    0.364398    0.368897    0.359899    0.368897   \n",
              "...                               ...         ...         ...         ...   \n",
              "2022-12-02 00:00:00-05:00  481.809998  498.950012  481.809998  496.230011   \n",
              "2022-12-05 00:00:00-05:00  490.869995  494.980011  488.320007  490.670013   \n",
              "2022-12-06 00:00:00-05:00  491.320007  491.320007  482.200012  484.000000   \n",
              "2022-12-07 00:00:00-05:00  484.299988  489.239990  480.480011  481.200012   \n",
              "2022-12-08 00:00:00-05:00  485.260010  488.809998  481.549988  485.380005   \n",
              "\n",
              "                            Volume  Dividends  Stock Splits  \n",
              "Date                                                         \n",
              "1977-01-03 00:00:00-05:00   165282        0.0           0.0  \n",
              "1977-01-04 00:00:00-05:00   179952        0.0           0.0  \n",
              "1977-01-05 00:00:00-05:00   189732        0.0           0.0  \n",
              "1977-01-06 00:00:00-05:00   384354        0.0           0.0  \n",
              "1977-01-07 00:00:00-05:00   345234        0.0           0.0  \n",
              "...                            ...        ...           ...  \n",
              "2022-12-02 00:00:00-05:00  1744400        0.0           0.0  \n",
              "2022-12-05 00:00:00-05:00  1357200        0.0           0.0  \n",
              "2022-12-06 00:00:00-05:00  1076500        0.0           0.0  \n",
              "2022-12-07 00:00:00-05:00   999800        0.0           0.0  \n",
              "2022-12-08 00:00:00-05:00   762200        0.0           0.0  \n",
              "\n",
              "[11585 rows x 7 columns]"
            ],
            "text/html": [
              "\n",
              "  <div id=\"df-7724dcf0-8c95-422b-8154-f24801722b0d\">\n",
              "    <div class=\"colab-df-container\">\n",
              "      <div>\n",
              "<style scoped>\n",
              "    .dataframe tbody tr th:only-of-type {\n",
              "        vertical-align: middle;\n",
              "    }\n",
              "\n",
              "    .dataframe tbody tr th {\n",
              "        vertical-align: top;\n",
              "    }\n",
              "\n",
              "    .dataframe thead th {\n",
              "        text-align: right;\n",
              "    }\n",
              "</style>\n",
              "<table border=\"1\" class=\"dataframe\">\n",
              "  <thead>\n",
              "    <tr style=\"text-align: right;\">\n",
              "      <th></th>\n",
              "      <th>Open</th>\n",
              "      <th>High</th>\n",
              "      <th>Low</th>\n",
              "      <th>Close</th>\n",
              "      <th>Volume</th>\n",
              "      <th>Dividends</th>\n",
              "      <th>Stock Splits</th>\n",
              "    </tr>\n",
              "    <tr>\n",
              "      <th>Date</th>\n",
              "      <th></th>\n",
              "      <th></th>\n",
              "      <th></th>\n",
              "      <th></th>\n",
              "      <th></th>\n",
              "      <th></th>\n",
              "      <th></th>\n",
              "    </tr>\n",
              "  </thead>\n",
              "  <tbody>\n",
              "    <tr>\n",
              "      <th>1977-01-03 00:00:00-05:00</th>\n",
              "      <td>0.332907</td>\n",
              "      <td>0.337405</td>\n",
              "      <td>0.332907</td>\n",
              "      <td>0.337405</td>\n",
              "      <td>165282</td>\n",
              "      <td>0.0</td>\n",
              "      <td>0.0</td>\n",
              "    </tr>\n",
              "    <tr>\n",
              "      <th>1977-01-04 00:00:00-05:00</th>\n",
              "      <td>0.337405</td>\n",
              "      <td>0.341904</td>\n",
              "      <td>0.319410</td>\n",
              "      <td>0.337405</td>\n",
              "      <td>179952</td>\n",
              "      <td>0.0</td>\n",
              "      <td>0.0</td>\n",
              "    </tr>\n",
              "    <tr>\n",
              "      <th>1977-01-05 00:00:00-05:00</th>\n",
              "      <td>0.337406</td>\n",
              "      <td>0.346403</td>\n",
              "      <td>0.337406</td>\n",
              "      <td>0.346403</td>\n",
              "      <td>189732</td>\n",
              "      <td>0.0</td>\n",
              "      <td>0.0</td>\n",
              "    </tr>\n",
              "    <tr>\n",
              "      <th>1977-01-06 00:00:00-05:00</th>\n",
              "      <td>0.346403</td>\n",
              "      <td>0.364398</td>\n",
              "      <td>0.346403</td>\n",
              "      <td>0.364398</td>\n",
              "      <td>384354</td>\n",
              "      <td>0.0</td>\n",
              "      <td>0.0</td>\n",
              "    </tr>\n",
              "    <tr>\n",
              "      <th>1977-01-07 00:00:00-05:00</th>\n",
              "      <td>0.364398</td>\n",
              "      <td>0.368897</td>\n",
              "      <td>0.359899</td>\n",
              "      <td>0.368897</td>\n",
              "      <td>345234</td>\n",
              "      <td>0.0</td>\n",
              "      <td>0.0</td>\n",
              "    </tr>\n",
              "    <tr>\n",
              "      <th>...</th>\n",
              "      <td>...</td>\n",
              "      <td>...</td>\n",
              "      <td>...</td>\n",
              "      <td>...</td>\n",
              "      <td>...</td>\n",
              "      <td>...</td>\n",
              "      <td>...</td>\n",
              "    </tr>\n",
              "    <tr>\n",
              "      <th>2022-12-02 00:00:00-05:00</th>\n",
              "      <td>481.809998</td>\n",
              "      <td>498.950012</td>\n",
              "      <td>481.809998</td>\n",
              "      <td>496.230011</td>\n",
              "      <td>1744400</td>\n",
              "      <td>0.0</td>\n",
              "      <td>0.0</td>\n",
              "    </tr>\n",
              "    <tr>\n",
              "      <th>2022-12-05 00:00:00-05:00</th>\n",
              "      <td>490.869995</td>\n",
              "      <td>494.980011</td>\n",
              "      <td>488.320007</td>\n",
              "      <td>490.670013</td>\n",
              "      <td>1357200</td>\n",
              "      <td>0.0</td>\n",
              "      <td>0.0</td>\n",
              "    </tr>\n",
              "    <tr>\n",
              "      <th>2022-12-06 00:00:00-05:00</th>\n",
              "      <td>491.320007</td>\n",
              "      <td>491.320007</td>\n",
              "      <td>482.200012</td>\n",
              "      <td>484.000000</td>\n",
              "      <td>1076500</td>\n",
              "      <td>0.0</td>\n",
              "      <td>0.0</td>\n",
              "    </tr>\n",
              "    <tr>\n",
              "      <th>2022-12-07 00:00:00-05:00</th>\n",
              "      <td>484.299988</td>\n",
              "      <td>489.239990</td>\n",
              "      <td>480.480011</td>\n",
              "      <td>481.200012</td>\n",
              "      <td>999800</td>\n",
              "      <td>0.0</td>\n",
              "      <td>0.0</td>\n",
              "    </tr>\n",
              "    <tr>\n",
              "      <th>2022-12-08 00:00:00-05:00</th>\n",
              "      <td>485.260010</td>\n",
              "      <td>488.809998</td>\n",
              "      <td>481.549988</td>\n",
              "      <td>485.380005</td>\n",
              "      <td>762200</td>\n",
              "      <td>0.0</td>\n",
              "      <td>0.0</td>\n",
              "    </tr>\n",
              "  </tbody>\n",
              "</table>\n",
              "<p>11585 rows × 7 columns</p>\n",
              "</div>\n",
              "      <button class=\"colab-df-convert\" onclick=\"convertToInteractive('df-7724dcf0-8c95-422b-8154-f24801722b0d')\"\n",
              "              title=\"Convert this dataframe to an interactive table.\"\n",
              "              style=\"display:none;\">\n",
              "        \n",
              "  <svg xmlns=\"http://www.w3.org/2000/svg\" height=\"24px\"viewBox=\"0 0 24 24\"\n",
              "       width=\"24px\">\n",
              "    <path d=\"M0 0h24v24H0V0z\" fill=\"none\"/>\n",
              "    <path d=\"M18.56 5.44l.94 2.06.94-2.06 2.06-.94-2.06-.94-.94-2.06-.94 2.06-2.06.94zm-11 1L8.5 8.5l.94-2.06 2.06-.94-2.06-.94L8.5 2.5l-.94 2.06-2.06.94zm10 10l.94 2.06.94-2.06 2.06-.94-2.06-.94-.94-2.06-.94 2.06-2.06.94z\"/><path d=\"M17.41 7.96l-1.37-1.37c-.4-.4-.92-.59-1.43-.59-.52 0-1.04.2-1.43.59L10.3 9.45l-7.72 7.72c-.78.78-.78 2.05 0 2.83L4 21.41c.39.39.9.59 1.41.59.51 0 1.02-.2 1.41-.59l7.78-7.78 2.81-2.81c.8-.78.8-2.07 0-2.86zM5.41 20L4 18.59l7.72-7.72 1.47 1.35L5.41 20z\"/>\n",
              "  </svg>\n",
              "      </button>\n",
              "      \n",
              "  <style>\n",
              "    .colab-df-container {\n",
              "      display:flex;\n",
              "      flex-wrap:wrap;\n",
              "      gap: 12px;\n",
              "    }\n",
              "\n",
              "    .colab-df-convert {\n",
              "      background-color: #E8F0FE;\n",
              "      border: none;\n",
              "      border-radius: 50%;\n",
              "      cursor: pointer;\n",
              "      display: none;\n",
              "      fill: #1967D2;\n",
              "      height: 32px;\n",
              "      padding: 0 0 0 0;\n",
              "      width: 32px;\n",
              "    }\n",
              "\n",
              "    .colab-df-convert:hover {\n",
              "      background-color: #E2EBFA;\n",
              "      box-shadow: 0px 1px 2px rgba(60, 64, 67, 0.3), 0px 1px 3px 1px rgba(60, 64, 67, 0.15);\n",
              "      fill: #174EA6;\n",
              "    }\n",
              "\n",
              "    [theme=dark] .colab-df-convert {\n",
              "      background-color: #3B4455;\n",
              "      fill: #D2E3FC;\n",
              "    }\n",
              "\n",
              "    [theme=dark] .colab-df-convert:hover {\n",
              "      background-color: #434B5C;\n",
              "      box-shadow: 0px 1px 3px 1px rgba(0, 0, 0, 0.15);\n",
              "      filter: drop-shadow(0px 1px 2px rgba(0, 0, 0, 0.3));\n",
              "      fill: #FFFFFF;\n",
              "    }\n",
              "  </style>\n",
              "\n",
              "      <script>\n",
              "        const buttonEl =\n",
              "          document.querySelector('#df-7724dcf0-8c95-422b-8154-f24801722b0d button.colab-df-convert');\n",
              "        buttonEl.style.display =\n",
              "          google.colab.kernel.accessAllowed ? 'block' : 'none';\n",
              "\n",
              "        async function convertToInteractive(key) {\n",
              "          const element = document.querySelector('#df-7724dcf0-8c95-422b-8154-f24801722b0d');\n",
              "          const dataTable =\n",
              "            await google.colab.kernel.invokeFunction('convertToInteractive',\n",
              "                                                     [key], {});\n",
              "          if (!dataTable) return;\n",
              "\n",
              "          const docLinkHtml = 'Like what you see? Visit the ' +\n",
              "            '<a target=\"_blank\" href=https://colab.research.google.com/notebooks/data_table.ipynb>data table notebook</a>'\n",
              "            + ' to learn more about interactive tables.';\n",
              "          element.innerHTML = '';\n",
              "          dataTable['output_type'] = 'display_data';\n",
              "          await google.colab.output.renderOutput(dataTable, element);\n",
              "          const docLink = document.createElement('div');\n",
              "          docLink.innerHTML = docLinkHtml;\n",
              "          element.appendChild(docLink);\n",
              "        }\n",
              "      </script>\n",
              "    </div>\n",
              "  </div>\n",
              "  "
            ]
          },
          "metadata": {},
          "execution_count": 4
        }
      ]
    },
    {
      "cell_type": "code",
      "source": [
        "stock = yf.Ticker('LMT')\n",
        "data = stock.history(start='2022-11-9', end='2022-11-16', interval = '60m')\n",
        "\n",
        "# Build a list of stock values\n",
        "lmt = [info for date, info in data.iterrows()]\n",
        "\n",
        "# Print the list\n",
        "print(lmt)"
      ],
      "metadata": {
        "colab": {
          "base_uri": "https://localhost:8080/"
        },
        "id": "h2oBiEGxYU9x",
        "outputId": "d3b1e0a3-b25e-4487-8d15-c5edde625b4b"
      },
      "execution_count": null,
      "outputs": [
        {
          "output_type": "stream",
          "name": "stdout",
          "text": [
            "[Open               489.750000\n",
            "High               492.440002\n",
            "Low                487.989990\n",
            "Close              488.989990\n",
            "Volume          266824.000000\n",
            "Dividends            0.000000\n",
            "Stock Splits         0.000000\n",
            "Name: 2022-11-09 09:30:00-05:00, dtype: float64, Open               489.070007\n",
            "High               489.309998\n",
            "Low                484.239990\n",
            "Close              487.959991\n",
            "Volume          210827.000000\n",
            "Dividends            0.000000\n",
            "Stock Splits         0.000000\n",
            "Name: 2022-11-09 10:30:00-05:00, dtype: float64, Open               487.980011\n",
            "High               489.140015\n",
            "Low                486.279999\n",
            "Close              486.839996\n",
            "Volume          105498.000000\n",
            "Dividends            0.000000\n",
            "Stock Splits         0.000000\n",
            "Name: 2022-11-09 11:30:00-05:00, dtype: float64, Open               487.000000\n",
            "High               488.660004\n",
            "Low                486.839996\n",
            "Close              488.455902\n",
            "Volume          101983.000000\n",
            "Dividends            0.000000\n",
            "Stock Splits         0.000000\n",
            "Name: 2022-11-09 12:30:00-05:00, dtype: float64, Open               488.450012\n",
            "High               488.645813\n",
            "Low                486.234985\n",
            "Close              487.380005\n",
            "Volume          120074.000000\n",
            "Dividends            0.000000\n",
            "Stock Splits         0.000000\n",
            "Name: 2022-11-09 13:30:00-05:00, dtype: float64, Open               487.325012\n",
            "High               487.325012\n",
            "Low                485.515015\n",
            "Close              486.309998\n",
            "Volume          127886.000000\n",
            "Dividends            0.000000\n",
            "Stock Splits         0.000000\n",
            "Name: 2022-11-09 14:30:00-05:00, dtype: float64, Open               486.399994\n",
            "High               486.920013\n",
            "Low                484.760010\n",
            "Close              485.420013\n",
            "Volume          193690.000000\n",
            "Dividends            0.000000\n",
            "Stock Splits         0.000000\n",
            "Name: 2022-11-09 15:30:00-05:00, dtype: float64, Open               488.260010\n",
            "High               490.779999\n",
            "Low                483.869995\n",
            "Close              489.019989\n",
            "Volume          314511.000000\n",
            "Dividends            0.000000\n",
            "Stock Splits         0.000000\n",
            "Name: 2022-11-10 09:30:00-05:00, dtype: float64, Open               489.170013\n",
            "High               489.730011\n",
            "Low                487.355011\n",
            "Close              489.530090\n",
            "Volume          168851.000000\n",
            "Dividends            0.000000\n",
            "Stock Splits         0.000000\n",
            "Name: 2022-11-10 10:30:00-05:00, dtype: float64, Open               489.434998\n",
            "High               490.000000\n",
            "Low                483.589996\n",
            "Close              483.589996\n",
            "Volume          145050.000000\n",
            "Dividends            0.000000\n",
            "Stock Splits         0.000000\n",
            "Name: 2022-11-10 11:30:00-05:00, dtype: float64, Open               483.700012\n",
            "High               483.723297\n",
            "Low                479.700012\n",
            "Close              483.500000\n",
            "Volume          200101.000000\n",
            "Dividends            0.000000\n",
            "Stock Splits         0.000000\n",
            "Name: 2022-11-10 12:30:00-05:00, dtype: float64, Open               483.670013\n",
            "High               487.359985\n",
            "Low                482.920013\n",
            "Close              486.890015\n",
            "Volume          116709.000000\n",
            "Dividends            0.000000\n",
            "Stock Splits         0.000000\n",
            "Name: 2022-11-10 13:30:00-05:00, dtype: float64, Open               486.859985\n",
            "High               490.220001\n",
            "Low                486.859985\n",
            "Close              489.820099\n",
            "Volume          136792.000000\n",
            "Dividends            0.000000\n",
            "Stock Splits         0.000000\n",
            "Name: 2022-11-10 14:30:00-05:00, dtype: float64, Open               489.904999\n",
            "High               491.220001\n",
            "Low                488.637390\n",
            "Close              490.660004\n",
            "Volume          192805.000000\n",
            "Dividends            0.000000\n",
            "Stock Splits         0.000000\n",
            "Name: 2022-11-10 15:30:00-05:00, dtype: float64, Open               480.739990\n",
            "High               483.829987\n",
            "Low                470.010010\n",
            "Close              475.204987\n",
            "Volume          591134.000000\n",
            "Dividends            0.000000\n",
            "Stock Splits         0.000000\n",
            "Name: 2022-11-11 09:30:00-05:00, dtype: float64, Open               475.204987\n",
            "High               475.690002\n",
            "Low                466.510010\n",
            "Close              471.359985\n",
            "Volume          457716.000000\n",
            "Dividends            0.000000\n",
            "Stock Splits         0.000000\n",
            "Name: 2022-11-11 10:30:00-05:00, dtype: float64, Open               471.200012\n",
            "High               474.119995\n",
            "Low                468.279999\n",
            "Close              469.410004\n",
            "Volume          284469.000000\n",
            "Dividends            0.000000\n",
            "Stock Splits         0.000000\n",
            "Name: 2022-11-11 11:30:00-05:00, dtype: float64, Open               469.420013\n",
            "High               469.600006\n",
            "Low                466.000000\n",
            "Close              467.380005\n",
            "Volume          305790.000000\n",
            "Dividends            0.000000\n",
            "Stock Splits         0.000000\n",
            "Name: 2022-11-11 12:30:00-05:00, dtype: float64, Open               467.445007\n",
            "High               467.589996\n",
            "Low                463.489990\n",
            "Close              465.399994\n",
            "Volume          294024.000000\n",
            "Dividends            0.000000\n",
            "Stock Splits         0.000000\n",
            "Name: 2022-11-11 13:30:00-05:00, dtype: float64, Open               465.540009\n",
            "High               465.848511\n",
            "Low                462.609985\n",
            "Close              465.000000\n",
            "Volume          369936.000000\n",
            "Dividends            0.000000\n",
            "Stock Splits         0.000000\n",
            "Name: 2022-11-11 14:30:00-05:00, dtype: float64, Open               464.809998\n",
            "High               465.255005\n",
            "Low                462.739990\n",
            "Close              463.630005\n",
            "Volume          448924.000000\n",
            "Dividends            0.000000\n",
            "Stock Splits         0.000000\n",
            "Name: 2022-11-11 15:30:00-05:00, dtype: float64, Open               467.350006\n",
            "High               471.980011\n",
            "Low                460.899994\n",
            "Close              465.359985\n",
            "Volume          530610.000000\n",
            "Dividends            0.000000\n",
            "Stock Splits         0.000000\n",
            "Name: 2022-11-14 09:30:00-05:00, dtype: float64, Open               465.359985\n",
            "High               469.809998\n",
            "Low                462.410004\n",
            "Close              462.589996\n",
            "Volume          313956.000000\n",
            "Dividends            0.000000\n",
            "Stock Splits         0.000000\n",
            "Name: 2022-11-14 10:30:00-05:00, dtype: float64, Open               462.584991\n",
            "High               463.209991\n",
            "Low                459.369995\n",
            "Close              462.880005\n",
            "Volume          243526.000000\n",
            "Dividends            0.000000\n",
            "Stock Splits         0.000000\n",
            "Name: 2022-11-14 11:30:00-05:00, dtype: float64, Open               462.959991\n",
            "High               466.989990\n",
            "Low                462.559998\n",
            "Close              464.584991\n",
            "Volume          297208.000000\n",
            "Dividends            0.000000\n",
            "Stock Splits         0.000000\n",
            "Name: 2022-11-14 12:30:00-05:00, dtype: float64, Open               464.730011\n",
            "High               466.345001\n",
            "Low                464.399994\n",
            "Close              466.268402\n",
            "Volume          173547.000000\n",
            "Dividends            0.000000\n",
            "Stock Splits         0.000000\n",
            "Name: 2022-11-14 13:30:00-05:00, dtype: float64, Open               466.366699\n",
            "High               466.480011\n",
            "Low                464.029999\n",
            "Close              465.160004\n",
            "Volume          194401.000000\n",
            "Dividends            0.000000\n",
            "Stock Splits         0.000000\n",
            "Name: 2022-11-14 14:30:00-05:00, dtype: float64, Open               465.184998\n",
            "High               466.399994\n",
            "Low                462.299988\n",
            "Close              462.440002\n",
            "Volume          369758.000000\n",
            "Dividends            0.000000\n",
            "Stock Splits         0.000000\n",
            "Name: 2022-11-14 15:30:00-05:00, dtype: float64, Open               465.839996\n",
            "High               466.700012\n",
            "Low                458.049988\n",
            "Close              461.881714\n",
            "Volume          347849.000000\n",
            "Dividends            0.000000\n",
            "Stock Splits         0.000000\n",
            "Name: 2022-11-15 09:30:00-05:00, dtype: float64, Open               461.954987\n",
            "High               466.000000\n",
            "Low                461.239990\n",
            "Close              465.524994\n",
            "Volume          218721.000000\n",
            "Dividends            0.000000\n",
            "Stock Splits         0.000000\n",
            "Name: 2022-11-15 10:30:00-05:00, dtype: float64, Open               465.709991\n",
            "High               466.950012\n",
            "Low                464.095001\n",
            "Close              464.940002\n",
            "Volume          147194.000000\n",
            "Dividends            0.000000\n",
            "Stock Splits         0.000000\n",
            "Name: 2022-11-15 11:30:00-05:00, dtype: float64, Open               464.795013\n",
            "High               473.609985\n",
            "Low                461.670013\n",
            "Close              467.255005\n",
            "Volume          446021.000000\n",
            "Dividends            0.000000\n",
            "Stock Splits         0.000000\n",
            "Name: 2022-11-15 12:30:00-05:00, dtype: float64, Open            4.672550e+02\n",
            "High            4.749900e+02\n",
            "Low             4.627100e+02\n",
            "Close           4.641700e+02\n",
            "Volume          1.112148e+06\n",
            "Dividends       0.000000e+00\n",
            "Stock Splits    0.000000e+00\n",
            "Name: 2022-11-15 13:30:00-05:00, dtype: float64, Open               464.464996\n",
            "High               467.559998\n",
            "Low                464.290009\n",
            "Close              467.480011\n",
            "Volume          275452.000000\n",
            "Dividends            0.000000\n",
            "Stock Splits         0.000000\n",
            "Name: 2022-11-15 14:30:00-05:00, dtype: float64, Open               467.209991\n",
            "High               468.170013\n",
            "Low                465.589996\n",
            "Close              467.239990\n",
            "Volume          434807.000000\n",
            "Dividends            0.000000\n",
            "Stock Splits         0.000000\n",
            "Name: 2022-11-15 15:30:00-05:00, dtype: float64]\n"
          ]
        }
      ]
    },
    {
      "cell_type": "code",
      "source": [
        "stock = yf.Ticker('LLY')\n",
        "data = stock.history(start='2022-11-9', end='2022-11-16', interval = '60m')\n",
        "\n",
        "# Build a list of stock values\n",
        "lly = [info for date, info in data.iterrows()]\n",
        "\n",
        "# Print the list\n",
        "print(lly)"
      ],
      "metadata": {
        "colab": {
          "base_uri": "https://localhost:8080/"
        },
        "id": "51F_LNhZYoqe",
        "outputId": "7749d394-504c-4582-f78b-88342fddef34"
      },
      "execution_count": null,
      "outputs": [
        {
          "output_type": "stream",
          "name": "stdout",
          "text": [
            "[Open               368.440002\n",
            "High               369.799988\n",
            "Low                365.459991\n",
            "Close              368.079987\n",
            "Volume          434816.000000\n",
            "Dividends            0.000000\n",
            "Stock Splits         0.000000\n",
            "Name: 2022-11-09 09:30:00-05:00, dtype: float64, Open               368.079987\n",
            "High               369.410004\n",
            "Low                366.850006\n",
            "Close              368.769989\n",
            "Volume          356618.000000\n",
            "Dividends            0.000000\n",
            "Stock Splits         0.000000\n",
            "Name: 2022-11-09 10:30:00-05:00, dtype: float64, Open               368.705994\n",
            "High               369.239990\n",
            "Low                367.265015\n",
            "Close              367.959991\n",
            "Volume          189034.000000\n",
            "Dividends            0.000000\n",
            "Stock Splits         0.000000\n",
            "Name: 2022-11-09 11:30:00-05:00, dtype: float64, Open               368.049896\n",
            "High               368.510010\n",
            "Low                366.500000\n",
            "Close              366.779999\n",
            "Volume          244539.000000\n",
            "Dividends            0.000000\n",
            "Stock Splits         0.000000\n",
            "Name: 2022-11-09 12:30:00-05:00, dtype: float64, Open               366.636993\n",
            "High               367.000000\n",
            "Low                364.825012\n",
            "Close              365.482513\n",
            "Volume          198635.000000\n",
            "Dividends            0.000000\n",
            "Stock Splits         0.000000\n",
            "Name: 2022-11-09 13:30:00-05:00, dtype: float64, Open               365.420013\n",
            "High               365.484985\n",
            "Low                363.399994\n",
            "Close              363.959991\n",
            "Volume          240552.000000\n",
            "Dividends            0.000000\n",
            "Stock Splits         0.000000\n",
            "Name: 2022-11-09 14:30:00-05:00, dtype: float64, Open               363.904999\n",
            "High               363.904999\n",
            "Low                361.910004\n",
            "Close              363.339996\n",
            "Volume          356022.000000\n",
            "Dividends            0.000000\n",
            "Stock Splits         0.000000\n",
            "Name: 2022-11-09 15:30:00-05:00, dtype: float64, Open               367.239990\n",
            "High               369.000000\n",
            "Low                363.269989\n",
            "Close              366.524994\n",
            "Volume          492399.000000\n",
            "Dividends            0.000000\n",
            "Stock Splits         0.000000\n",
            "Name: 2022-11-10 09:30:00-05:00, dtype: float64, Open               366.559998\n",
            "High               366.730011\n",
            "Low                364.760010\n",
            "Close              366.080292\n",
            "Volume          604377.000000\n",
            "Dividends            0.000000\n",
            "Stock Splits         0.000000\n",
            "Name: 2022-11-10 10:30:00-05:00, dtype: float64, Open               366.089996\n",
            "High               367.149994\n",
            "Low                364.299988\n",
            "Close              364.511200\n",
            "Volume          267215.000000\n",
            "Dividends            0.000000\n",
            "Stock Splits         0.000000\n",
            "Name: 2022-11-10 11:30:00-05:00, dtype: float64, Open               364.320007\n",
            "High               364.734985\n",
            "Low                363.000092\n",
            "Close              364.690002\n",
            "Volume          184736.000000\n",
            "Dividends            0.000000\n",
            "Stock Splits         0.000000\n",
            "Name: 2022-11-10 12:30:00-05:00, dtype: float64, Open               364.670013\n",
            "High               366.209991\n",
            "Low                364.459991\n",
            "Close              365.220001\n",
            "Volume          193080.000000\n",
            "Dividends            0.000000\n",
            "Stock Splits         0.000000\n",
            "Name: 2022-11-10 13:30:00-05:00, dtype: float64, Open               365.345886\n",
            "High               368.369995\n",
            "Low                365.345886\n",
            "Close              367.975006\n",
            "Volume          276749.000000\n",
            "Dividends            0.000000\n",
            "Stock Splits         0.000000\n",
            "Name: 2022-11-10 14:30:00-05:00, dtype: float64, Open               367.980011\n",
            "High               368.980011\n",
            "Low                367.049988\n",
            "Close              368.380005\n",
            "Volume          424121.000000\n",
            "Dividends            0.000000\n",
            "Stock Splits         0.000000\n",
            "Name: 2022-11-10 15:30:00-05:00, dtype: float64, Open            3.661600e+02\n",
            "High            3.678300e+02\n",
            "Low             3.524950e+02\n",
            "Close           3.530900e+02\n",
            "Volume          1.548061e+06\n",
            "Dividends       0.000000e+00\n",
            "Stock Splits    0.000000e+00\n",
            "Name: 2022-11-11 09:30:00-05:00, dtype: float64, Open            3.530900e+02\n",
            "High            3.530900e+02\n",
            "Low             3.460600e+02\n",
            "Close           3.501500e+02\n",
            "Volume          1.147554e+06\n",
            "Dividends       0.000000e+00\n",
            "Stock Splits    0.000000e+00\n",
            "Name: 2022-11-11 10:30:00-05:00, dtype: float64, Open               350.162903\n",
            "High               353.820007\n",
            "Low                346.859985\n",
            "Close              346.859985\n",
            "Volume          695324.000000\n",
            "Dividends            0.000000\n",
            "Stock Splits         0.000000\n",
            "Name: 2022-11-11 11:30:00-05:00, dtype: float64, Open               346.959991\n",
            "High               347.570007\n",
            "Low                344.519989\n",
            "Close              346.519989\n",
            "Volume          811454.000000\n",
            "Dividends            0.000000\n",
            "Stock Splits         0.000000\n",
            "Name: 2022-11-11 12:30:00-05:00, dtype: float64, Open               346.529999\n",
            "High               349.719910\n",
            "Low                346.119995\n",
            "Close              349.570007\n",
            "Volume          567876.000000\n",
            "Dividends            0.000000\n",
            "Stock Splits         0.000000\n",
            "Name: 2022-11-11 13:30:00-05:00, dtype: float64, Open               349.440002\n",
            "High               354.250000\n",
            "Low                349.060089\n",
            "Close              354.100006\n",
            "Volume          646955.000000\n",
            "Dividends            0.000000\n",
            "Stock Splits         0.000000\n",
            "Name: 2022-11-11 14:30:00-05:00, dtype: float64, Open               354.065002\n",
            "High               354.829987\n",
            "Low                351.970001\n",
            "Close              352.359985\n",
            "Volume          720093.000000\n",
            "Dividends            0.000000\n",
            "Stock Splits         0.000000\n",
            "Name: 2022-11-11 15:30:00-05:00, dtype: float64, Open            3.590700e+02\n",
            "High            3.608000e+02\n",
            "Low             3.401200e+02\n",
            "Close           3.515750e+02\n",
            "Volume          1.784024e+06\n",
            "Dividends       9.800000e-01\n",
            "Stock Splits    0.000000e+00\n",
            "Name: 2022-11-14 09:30:00-05:00, dtype: float64, Open               351.589996\n",
            "High               354.500000\n",
            "Low                351.589996\n",
            "Close              354.154999\n",
            "Volume          475966.000000\n",
            "Dividends            0.000000\n",
            "Stock Splits         0.000000\n",
            "Name: 2022-11-14 10:30:00-05:00, dtype: float64, Open               354.149994\n",
            "High               357.949890\n",
            "Low                353.570007\n",
            "Close              357.420013\n",
            "Volume          346625.000000\n",
            "Dividends            0.000000\n",
            "Stock Splits         0.000000\n",
            "Name: 2022-11-14 11:30:00-05:00, dtype: float64, Open               357.265015\n",
            "High               360.010010\n",
            "Low                357.179993\n",
            "Close              359.467499\n",
            "Volume          350047.000000\n",
            "Dividends            0.000000\n",
            "Stock Splits         0.000000\n",
            "Name: 2022-11-14 12:30:00-05:00, dtype: float64, Open               359.464996\n",
            "High               359.570007\n",
            "Low                357.179993\n",
            "Close              359.050812\n",
            "Volume          298735.000000\n",
            "Dividends            0.000000\n",
            "Stock Splits         0.000000\n",
            "Name: 2022-11-14 13:30:00-05:00, dtype: float64, Open               359.002411\n",
            "High               359.290009\n",
            "Low                357.709991\n",
            "Close              358.510010\n",
            "Volume          329219.000000\n",
            "Dividends            0.000000\n",
            "Stock Splits         0.000000\n",
            "Name: 2022-11-14 14:30:00-05:00, dtype: float64, Open               358.450012\n",
            "High               359.519989\n",
            "Low                356.109985\n",
            "Close              356.170013\n",
            "Volume          490771.000000\n",
            "Dividends            0.000000\n",
            "Stock Splits         0.000000\n",
            "Name: 2022-11-14 15:30:00-05:00, dtype: float64, Open               356.940002\n",
            "High               356.989990\n",
            "Low                349.570007\n",
            "Close              353.149994\n",
            "Volume          985161.000000\n",
            "Dividends            0.000000\n",
            "Stock Splits         0.000000\n",
            "Name: 2022-11-15 09:30:00-05:00, dtype: float64, Open               353.125000\n",
            "High               353.889893\n",
            "Low                351.890015\n",
            "Close              352.489990\n",
            "Volume          336815.000000\n",
            "Dividends            0.000000\n",
            "Stock Splits         0.000000\n",
            "Name: 2022-11-15 10:30:00-05:00, dtype: float64, Open               352.649994\n",
            "High               353.070007\n",
            "Low                349.559998\n",
            "Close              349.910004\n",
            "Volume          354261.000000\n",
            "Dividends            0.000000\n",
            "Stock Splits         0.000000\n",
            "Name: 2022-11-15 11:30:00-05:00, dtype: float64, Open               349.929993\n",
            "High               350.109894\n",
            "Low                346.355011\n",
            "Close              346.970001\n",
            "Volume          384508.000000\n",
            "Dividends            0.000000\n",
            "Stock Splits         0.000000\n",
            "Name: 2022-11-15 12:30:00-05:00, dtype: float64, Open               346.989990\n",
            "High               350.339996\n",
            "Low                346.410004\n",
            "Close              349.427795\n",
            "Volume          386173.000000\n",
            "Dividends            0.000000\n",
            "Stock Splits         0.000000\n",
            "Name: 2022-11-15 13:30:00-05:00, dtype: float64, Open               349.519989\n",
            "High               351.299988\n",
            "Low                348.410004\n",
            "Close              351.179993\n",
            "Volume          323479.000000\n",
            "Dividends            0.000000\n",
            "Stock Splits         0.000000\n",
            "Name: 2022-11-15 14:30:00-05:00, dtype: float64, Open               351.059998\n",
            "High               352.220001\n",
            "Low                349.799988\n",
            "Close              350.149994\n",
            "Volume          562163.000000\n",
            "Dividends            0.000000\n",
            "Stock Splits         0.000000\n",
            "Name: 2022-11-15 15:30:00-05:00, dtype: float64]\n"
          ]
        }
      ]
    },
    {
      "cell_type": "code",
      "source": [
        "user = api.get_user(\"LillyPad\")\n",
        "\n",
        "print(f\"Follower count: {user.followers_count}\")\n",
        "print(f\"Favourites count: {user.favourites_count}\")\n",
        "print(f\"Statuses count: {user.statuses_count}\")"
      ],
      "metadata": {
        "colab": {
          "base_uri": "https://localhost:8080/",
          "height": 240
        },
        "id": "KcBoUlQU1SIi",
        "outputId": "58812912-4caa-469e-8838-2ecbbd7f5b2b"
      },
      "execution_count": null,
      "outputs": [
        {
          "output_type": "error",
          "ename": "NameError",
          "evalue": "ignored",
          "traceback": [
            "\u001b[0;31m---------------------------------------------------------------------------\u001b[0m",
            "\u001b[0;31mNameError\u001b[0m                                 Traceback (most recent call last)",
            "\u001b[0;32m<ipython-input-7-a6c75af265e2>\u001b[0m in \u001b[0;36m<module>\u001b[0;34m\u001b[0m\n\u001b[0;32m----> 1\u001b[0;31m \u001b[0muser\u001b[0m \u001b[0;34m=\u001b[0m \u001b[0mapi\u001b[0m\u001b[0;34m.\u001b[0m\u001b[0mget_user\u001b[0m\u001b[0;34m(\u001b[0m\u001b[0;34m\"LillyPad\"\u001b[0m\u001b[0;34m)\u001b[0m\u001b[0;34m\u001b[0m\u001b[0;34m\u001b[0m\u001b[0m\n\u001b[0m\u001b[1;32m      2\u001b[0m \u001b[0;34m\u001b[0m\u001b[0m\n\u001b[1;32m      3\u001b[0m \u001b[0mprint\u001b[0m\u001b[0;34m(\u001b[0m\u001b[0;34mf\"Follower count: {user.followers_count}\"\u001b[0m\u001b[0;34m)\u001b[0m\u001b[0;34m\u001b[0m\u001b[0;34m\u001b[0m\u001b[0m\n\u001b[1;32m      4\u001b[0m \u001b[0mprint\u001b[0m\u001b[0;34m(\u001b[0m\u001b[0;34mf\"Favourites count: {user.favourites_count}\"\u001b[0m\u001b[0;34m)\u001b[0m\u001b[0;34m\u001b[0m\u001b[0;34m\u001b[0m\u001b[0m\n\u001b[1;32m      5\u001b[0m \u001b[0mprint\u001b[0m\u001b[0;34m(\u001b[0m\u001b[0;34mf\"Statuses count: {user.statuses_count}\"\u001b[0m\u001b[0;34m)\u001b[0m\u001b[0;34m\u001b[0m\u001b[0;34m\u001b[0m\u001b[0m\n",
            "\u001b[0;31mNameError\u001b[0m: name 'api' is not defined"
          ]
        }
      ]
    },
    {
      "cell_type": "code",
      "source": [
        "stock = yf.Ticker('soja3.sa')\n",
        "data = stock.history(start='2022-11-9', end='2022-11-16', interval = '60m')\n",
        "\n",
        "# Build a list of stock values\n",
        "soja = [info for date, info in data.iterrows()]\n",
        "\n",
        "# Print the list\n",
        "print(soja) "
      ],
      "metadata": {
        "id": "iD5ThUCeZz-Q"
      },
      "execution_count": null,
      "outputs": []
    },
    {
      "cell_type": "code",
      "source": [
        "user = api.get_user(\"Chiquita\")\n",
        "\n",
        "print(f\"Follower count: {user.followers_count}\")\n",
        "print(f\"Favourites count: {user.favourites_count}\")\n",
        "print(f\"Statuses count: {user.statuses_count}\")"
      ],
      "metadata": {
        "id": "6cuGS8HN15NY"
      },
      "execution_count": null,
      "outputs": []
    },
    {
      "cell_type": "code",
      "source": [
        "stock = yf.Ticker('GSK')\n",
        "data = stock.history(start='2022-11-9', end='2022-11-16', interval = '60m')\n",
        "\n",
        "# Build a list of stock values\n",
        "gsk = [info for date, info in data.iterrows()]\n",
        "\n",
        "# Print the list\n",
        "print(gsk) "
      ],
      "metadata": {
        "id": "iIPTbZMMaIMI"
      },
      "execution_count": null,
      "outputs": []
    },
    {
      "cell_type": "code",
      "source": [
        "user = api.get_user(\"Robitussin\")\n",
        "\n",
        "print(f\"Follower count: {user.followers_count}\")\n",
        "print(f\"Favourites count: {user.favourites_count}\")\n",
        "print(f\"Statuses count: {user.statuses_count}\")"
      ],
      "metadata": {
        "id": "nrYP5s1b2A3g"
      },
      "execution_count": null,
      "outputs": []
    },
    {
      "cell_type": "code",
      "source": [
        "stock = yf.Ticker('KO')\n",
        "data = stock.history(start='2022-11-9', end='2022-11-16', interval = '60m')\n",
        "\n",
        "coke = [info for date, info in data.iterrows()]\n",
        "\n",
        "print(coke) "
      ],
      "metadata": {
        "id": "Xt56t8fVbuFv"
      },
      "execution_count": null,
      "outputs": []
    },
    {
      "cell_type": "code",
      "source": [
        "user = api.get_user(\"CocaCola\")\n",
        "\n",
        "print(f\"Follower count: {user.followers_count}\")\n",
        "print(f\"Favourites count: {user.favourites_count}\")\n",
        "print(f\"Statuses count: {user.statuses_count}\")"
      ],
      "metadata": {
        "id": "iB1nmeaI2OS6"
      },
      "execution_count": null,
      "outputs": []
    },
    {
      "cell_type": "code",
      "source": [
        "stock = yf.Ticker('NTDOY')\n",
        "data = stock.history(start='2022-11-9', end='2022-11-16', interval = '60m')\n",
        "\n",
        "ndo = [info for date, info in data.iterrows()]\n",
        "\n",
        "print(ndo) "
      ],
      "metadata": {
        "id": "W55Ye4X5cCHu"
      },
      "execution_count": null,
      "outputs": []
    },
    {
      "cell_type": "code",
      "source": [
        "user = api.get_user(\"NintendoAmerica\")\n",
        "\n",
        "print(f\"Follower count: {user.followers_count}\")\n",
        "print(f\"Favourites count: {user.favourites_count}\")\n",
        "print(f\"Statuses count: {user.statuses_count}\")"
      ],
      "metadata": {
        "id": "9awAeyJe2WAw"
      },
      "execution_count": null,
      "outputs": []
    },
    {
      "cell_type": "code",
      "source": [
        "stock = yf.Ticker('bp')\n",
        "data = stock.history(start='2022-11-9', end='2022-11-16', interval = '60m')\n",
        "\n",
        "bp = [info for date, info in data.iterrows()]\n",
        "\n",
        "print(bp)"
      ],
      "metadata": {
        "id": "Dv8tKC8UcTFI"
      },
      "execution_count": null,
      "outputs": []
    },
    {
      "cell_type": "code",
      "source": [
        "user = api.get_user(\"bp_plc\")\n",
        "\n",
        "print(f\"Follower count: {user.followers_count}\")\n",
        "print(f\"Favourites count: {user.favourites_count}\")\n",
        "print(f\"Statuses count: {user.statuses_count}\")"
      ],
      "metadata": {
        "id": "UFyy_cRV2hMC"
      },
      "execution_count": null,
      "outputs": []
    },
    {
      "cell_type": "code",
      "source": [
        "stock = yf.Ticker('ELV')\n",
        "data = stock.history(start='2022-11-9', end='2022-11-16', interval = '60m')\n",
        "\n",
        "elv = [info for date, info in data.iterrows()]\n",
        "\n",
        "print(elv)"
      ],
      "metadata": {
        "id": "S1irs0J7cvza"
      },
      "execution_count": null,
      "outputs": []
    },
    {
      "cell_type": "code",
      "source": [
        "user = api.get_user(\"BCBSAssociation\")\n",
        "\n",
        "print(f\"Follower count: {user.followers_count}\")\n",
        "print(f\"Favourites count: {user.favourites_count}\")\n",
        "print(f\"Statuses count: {user.statuses_count}\")"
      ],
      "metadata": {
        "id": "ufLsQkGH2rdY"
      },
      "execution_count": null,
      "outputs": []
    },
    {
      "cell_type": "code",
      "source": [
        "stock = yf.Ticker('TSLA')\n",
        "data = stock.history(start='2022-11-9', end='2022-11-16', interval = '60m')\n",
        "\n",
        "tesla = [info for date, info in data.iterrows()]\n",
        "\n",
        "print(tesla)"
      ],
      "metadata": {
        "id": "Ys2z1uLfc3xq"
      },
      "execution_count": null,
      "outputs": []
    },
    {
      "cell_type": "code",
      "source": [
        "import tweepy"
      ],
      "metadata": {
        "id": "lvE8Wyx6dOaL"
      },
      "execution_count": null,
      "outputs": []
    },
    {
      "cell_type": "code",
      "source": [
        "user = api.get_user(\"Tesla\")\n",
        "\n",
        "print(f\"Follower count: {user.followers_count}\")\n",
        "print(f\"Following count: {user.favourites_count}\")\n",
        "print(f\"Statuses count: {user.statuses_count}\")"
      ],
      "metadata": {
        "id": "hsCeYZLe4a9R"
      },
      "execution_count": null,
      "outputs": []
    },
    {
      "cell_type": "code",
      "source": [
        "user"
      ],
      "metadata": {
        "id": "Y7dUg1K34ke3"
      },
      "execution_count": null,
      "outputs": []
    },
    {
      "cell_type": "code",
      "source": [
        "tweet = api.user_timeline(screen_name=\"LillyPad\", q=\"misleading\", count=1, exclude_replies=True, tweet_mode=\"extended\")[0]\n",
        "\n",
        "print(tweet)"
      ],
      "metadata": {
        "id": "GAEeVqaedknH"
      },
      "execution_count": null,
      "outputs": []
    },
    {
      "cell_type": "code",
      "source": [
        "data.to_csv(\"tsla.csv\")\n",
        "files.download('tsla.csv')\n"
      ],
      "metadata": {
        "id": "8ldxHVO5_9b9"
      },
      "execution_count": null,
      "outputs": []
    },
    {
      "cell_type": "code",
      "source": [
        "consumer_key = 'lEGpy8zR6AMUJoCnCYOL9G5WT'\n",
        "consumer_secret = 'Y9Si0o4knPBC9lQNhMFndUaKuczvX9HnYEaAPYUt78cLFh5hd1'\n",
        "access_token = '91913341-UZts3fDlNqYh8FVmzTXmdNhpfu9qwuTCtpIbglwUS'\n",
        "access_token_secret = 'dgjTni0x2fXtdc3tsuHiJatWDzcWMDZODz2hRBkxllxZh'\n",
        "\n",
        "auth = tweepy.OAuthHandler(consumer_key, consumer_secret)\n",
        "auth.set_access_token(access_token, access_token_secret)\n",
        "api = tweepy.API(auth)\n",
        "\n",
        "tweets = api.user_timeline(screen_name='robitussy')\n",
        "first_tweet = tweets[-1]\n",
        "\n",
        "print(first_tweet)"
      ],
      "metadata": {
        "colab": {
          "base_uri": "https://localhost:8080/"
        },
        "id": "oarOk6ASZxmD",
        "outputId": "002fac31-2304-4b4d-80b6-363970b02a7e"
      },
      "execution_count": null,
      "outputs": [
        {
          "output_type": "stream",
          "name": "stdout",
          "text": [
            "Status(_api=<tweepy.api.API object at 0x7f8663cd02b0>, _json={'created_at': 'Thu Nov 10 02:12:26 +0000 2022', 'id': 1590527774602981376, 'id_str': '1590527774602981376', 'text': 'It’s Official! Finally we are releasing the heavily requested Adults only formula find out more at… https://t.co/R1eY5Fg6J6', 'truncated': True, 'entities': {'hashtags': [], 'symbols': [], 'user_mentions': [], 'urls': [{'url': 'https://t.co/R1eY5Fg6J6', 'expanded_url': 'https://twitter.com/i/web/status/1590527774602981376', 'display_url': 'twitter.com/i/web/status/1…', 'indices': [100, 123]}]}, 'source': '<a href=\"http://twitter.com/download/iphone\" rel=\"nofollow\">Twitter for iPhone</a>', 'in_reply_to_status_id': None, 'in_reply_to_status_id_str': None, 'in_reply_to_user_id': None, 'in_reply_to_user_id_str': None, 'in_reply_to_screen_name': None, 'user': {'id': 1590521807546814469, 'id_str': '1590521807546814469', 'name': 'Robitussy', 'screen_name': 'robitussy', 'location': '', 'description': 'The Official Parody Account for new Adults Only Robitussy DM', 'url': 'https://t.co/K6IjdScVDm', 'entities': {'url': {'urls': [{'url': 'https://t.co/K6IjdScVDm', 'expanded_url': 'https://www.robitussin.com/adult-robitussin/', 'display_url': 'robitussin.com/adult-robituss…', 'indices': [0, 23]}]}, 'description': {'urls': []}}, 'protected': False, 'followers_count': 9, 'friends_count': 0, 'listed_count': 0, 'created_at': 'Thu Nov 10 01:49:00 +0000 2022', 'favourites_count': 4, 'utc_offset': None, 'time_zone': None, 'geo_enabled': False, 'verified': False, 'statuses_count': 7, 'lang': None, 'contributors_enabled': False, 'is_translator': False, 'is_translation_enabled': False, 'profile_background_color': 'F5F8FA', 'profile_background_image_url': None, 'profile_background_image_url_https': None, 'profile_background_tile': False, 'profile_image_url': 'http://pbs.twimg.com/profile_images/1590526121484947458/UWfTjY8r_normal.jpg', 'profile_image_url_https': 'https://pbs.twimg.com/profile_images/1590526121484947458/UWfTjY8r_normal.jpg', 'profile_banner_url': 'https://pbs.twimg.com/profile_banners/1590521807546814469/1668045967', 'profile_link_color': '1DA1F2', 'profile_sidebar_border_color': 'C0DEED', 'profile_sidebar_fill_color': 'DDEEF6', 'profile_text_color': '333333', 'profile_use_background_image': True, 'has_extended_profile': True, 'default_profile': True, 'default_profile_image': False, 'following': False, 'follow_request_sent': False, 'notifications': False, 'translator_type': 'none', 'withheld_in_countries': []}, 'geo': None, 'coordinates': None, 'place': None, 'contributors': None, 'is_quote_status': False, 'retweet_count': 11, 'favorite_count': 26, 'favorited': False, 'retweeted': False, 'possibly_sensitive': False, 'lang': 'en'}, created_at=datetime.datetime(2022, 11, 10, 2, 12, 26), id=1590527774602981376, id_str='1590527774602981376', text='It’s Official! Finally we are releasing the heavily requested Adults only formula find out more at… https://t.co/R1eY5Fg6J6', truncated=True, entities={'hashtags': [], 'symbols': [], 'user_mentions': [], 'urls': [{'url': 'https://t.co/R1eY5Fg6J6', 'expanded_url': 'https://twitter.com/i/web/status/1590527774602981376', 'display_url': 'twitter.com/i/web/status/1…', 'indices': [100, 123]}]}, source='Twitter for iPhone', source_url='http://twitter.com/download/iphone', in_reply_to_status_id=None, in_reply_to_status_id_str=None, in_reply_to_user_id=None, in_reply_to_user_id_str=None, in_reply_to_screen_name=None, author=User(_api=<tweepy.api.API object at 0x7f8663cd02b0>, _json={'id': 1590521807546814469, 'id_str': '1590521807546814469', 'name': 'Robitussy', 'screen_name': 'robitussy', 'location': '', 'description': 'The Official Parody Account for new Adults Only Robitussy DM', 'url': 'https://t.co/K6IjdScVDm', 'entities': {'url': {'urls': [{'url': 'https://t.co/K6IjdScVDm', 'expanded_url': 'https://www.robitussin.com/adult-robitussin/', 'display_url': 'robitussin.com/adult-robituss…', 'indices': [0, 23]}]}, 'description': {'urls': []}}, 'protected': False, 'followers_count': 9, 'friends_count': 0, 'listed_count': 0, 'created_at': 'Thu Nov 10 01:49:00 +0000 2022', 'favourites_count': 4, 'utc_offset': None, 'time_zone': None, 'geo_enabled': False, 'verified': False, 'statuses_count': 7, 'lang': None, 'contributors_enabled': False, 'is_translator': False, 'is_translation_enabled': False, 'profile_background_color': 'F5F8FA', 'profile_background_image_url': None, 'profile_background_image_url_https': None, 'profile_background_tile': False, 'profile_image_url': 'http://pbs.twimg.com/profile_images/1590526121484947458/UWfTjY8r_normal.jpg', 'profile_image_url_https': 'https://pbs.twimg.com/profile_images/1590526121484947458/UWfTjY8r_normal.jpg', 'profile_banner_url': 'https://pbs.twimg.com/profile_banners/1590521807546814469/1668045967', 'profile_link_color': '1DA1F2', 'profile_sidebar_border_color': 'C0DEED', 'profile_sidebar_fill_color': 'DDEEF6', 'profile_text_color': '333333', 'profile_use_background_image': True, 'has_extended_profile': True, 'default_profile': True, 'default_profile_image': False, 'following': False, 'follow_request_sent': False, 'notifications': False, 'translator_type': 'none', 'withheld_in_countries': []}, id=1590521807546814469, id_str='1590521807546814469', name='Robitussy', screen_name='robitussy', location='', description='The Official Parody Account for new Adults Only Robitussy DM', url='https://t.co/K6IjdScVDm', entities={'url': {'urls': [{'url': 'https://t.co/K6IjdScVDm', 'expanded_url': 'https://www.robitussin.com/adult-robitussin/', 'display_url': 'robitussin.com/adult-robituss…', 'indices': [0, 23]}]}, 'description': {'urls': []}}, protected=False, followers_count=9, friends_count=0, listed_count=0, created_at=datetime.datetime(2022, 11, 10, 1, 49), favourites_count=4, utc_offset=None, time_zone=None, geo_enabled=False, verified=False, statuses_count=7, lang=None, contributors_enabled=False, is_translator=False, is_translation_enabled=False, profile_background_color='F5F8FA', profile_background_image_url=None, profile_background_image_url_https=None, profile_background_tile=False, profile_image_url='http://pbs.twimg.com/profile_images/1590526121484947458/UWfTjY8r_normal.jpg', profile_image_url_https='https://pbs.twimg.com/profile_images/1590526121484947458/UWfTjY8r_normal.jpg', profile_banner_url='https://pbs.twimg.com/profile_banners/1590521807546814469/1668045967', profile_link_color='1DA1F2', profile_sidebar_border_color='C0DEED', profile_sidebar_fill_color='DDEEF6', profile_text_color='333333', profile_use_background_image=True, has_extended_profile=True, default_profile=True, default_profile_image=False, following=False, follow_request_sent=False, notifications=False, translator_type='none', withheld_in_countries=[]), user=User(_api=<tweepy.api.API object at 0x7f8663cd02b0>, _json={'id': 1590521807546814469, 'id_str': '1590521807546814469', 'name': 'Robitussy', 'screen_name': 'robitussy', 'location': '', 'description': 'The Official Parody Account for new Adults Only Robitussy DM', 'url': 'https://t.co/K6IjdScVDm', 'entities': {'url': {'urls': [{'url': 'https://t.co/K6IjdScVDm', 'expanded_url': 'https://www.robitussin.com/adult-robitussin/', 'display_url': 'robitussin.com/adult-robituss…', 'indices': [0, 23]}]}, 'description': {'urls': []}}, 'protected': False, 'followers_count': 9, 'friends_count': 0, 'listed_count': 0, 'created_at': 'Thu Nov 10 01:49:00 +0000 2022', 'favourites_count': 4, 'utc_offset': None, 'time_zone': None, 'geo_enabled': False, 'verified': False, 'statuses_count': 7, 'lang': None, 'contributors_enabled': False, 'is_translator': False, 'is_translation_enabled': False, 'profile_background_color': 'F5F8FA', 'profile_background_image_url': None, 'profile_background_image_url_https': None, 'profile_background_tile': False, 'profile_image_url': 'http://pbs.twimg.com/profile_images/1590526121484947458/UWfTjY8r_normal.jpg', 'profile_image_url_https': 'https://pbs.twimg.com/profile_images/1590526121484947458/UWfTjY8r_normal.jpg', 'profile_banner_url': 'https://pbs.twimg.com/profile_banners/1590521807546814469/1668045967', 'profile_link_color': '1DA1F2', 'profile_sidebar_border_color': 'C0DEED', 'profile_sidebar_fill_color': 'DDEEF6', 'profile_text_color': '333333', 'profile_use_background_image': True, 'has_extended_profile': True, 'default_profile': True, 'default_profile_image': False, 'following': False, 'follow_request_sent': False, 'notifications': False, 'translator_type': 'none', 'withheld_in_countries': []}, id=1590521807546814469, id_str='1590521807546814469', name='Robitussy', screen_name='robitussy', location='', description='The Official Parody Account for new Adults Only Robitussy DM', url='https://t.co/K6IjdScVDm', entities={'url': {'urls': [{'url': 'https://t.co/K6IjdScVDm', 'expanded_url': 'https://www.robitussin.com/adult-robitussin/', 'display_url': 'robitussin.com/adult-robituss…', 'indices': [0, 23]}]}, 'description': {'urls': []}}, protected=False, followers_count=9, friends_count=0, listed_count=0, created_at=datetime.datetime(2022, 11, 10, 1, 49), favourites_count=4, utc_offset=None, time_zone=None, geo_enabled=False, verified=False, statuses_count=7, lang=None, contributors_enabled=False, is_translator=False, is_translation_enabled=False, profile_background_color='F5F8FA', profile_background_image_url=None, profile_background_image_url_https=None, profile_background_tile=False, profile_image_url='http://pbs.twimg.com/profile_images/1590526121484947458/UWfTjY8r_normal.jpg', profile_image_url_https='https://pbs.twimg.com/profile_images/1590526121484947458/UWfTjY8r_normal.jpg', profile_banner_url='https://pbs.twimg.com/profile_banners/1590521807546814469/1668045967', profile_link_color='1DA1F2', profile_sidebar_border_color='C0DEED', profile_sidebar_fill_color='DDEEF6', profile_text_color='333333', profile_use_background_image=True, has_extended_profile=True, default_profile=True, default_profile_image=False, following=False, follow_request_sent=False, notifications=False, translator_type='none', withheld_in_countries=[]), geo=None, coordinates=None, place=None, contributors=None, is_quote_status=False, retweet_count=11, favorite_count=26, favorited=False, retweeted=False, possibly_sensitive=False, lang='en')\n"
          ]
        }
      ]
    },
    {
      "cell_type": "code",
      "source": [
        "stock_data = yf.download(\"LMT\", start=\"2021-11-15\", end=\"2022-10-15\")"
      ],
      "metadata": {
        "colab": {
          "base_uri": "https://localhost:8080/"
        },
        "id": "yEXwFMdnuIXR",
        "outputId": "6db86858-80a6-45f0-d24b-80293aba81b6"
      },
      "execution_count": 62,
      "outputs": [
        {
          "output_type": "stream",
          "name": "stdout",
          "text": [
            "\r[*********************100%***********************]  1 of 1 completed\n"
          ]
        }
      ]
    },
    {
      "cell_type": "code",
      "source": [
        "stock_data"
      ],
      "metadata": {
        "colab": {
          "base_uri": "https://localhost:8080/",
          "height": 455
        },
        "id": "TqyOJ7Puvfnb",
        "outputId": "0c49b24c-123e-4af7-bd6a-c25e35c943b0"
      },
      "execution_count": 78,
      "outputs": [
        {
          "output_type": "execute_result",
          "data": {
            "text/plain": [
              "                 Date        Open        High         Low       Close  \\\n",
              "Date                                                                    \n",
              "2021-11-15 2021-11-15  339.549988  341.649994  339.429993  340.920013   \n",
              "2021-11-16 2021-11-16  341.890015  343.640015  339.760010  340.369995   \n",
              "2021-11-17 2021-11-17  339.480011  343.549988  339.480011  341.989990   \n",
              "2021-11-18 2021-11-18  342.720001  343.109985  340.209991  342.079987   \n",
              "2021-11-19 2021-11-19  340.880005  343.000000  339.350006  341.440002   \n",
              "...               ...         ...         ...         ...         ...   \n",
              "2022-10-10 2022-10-10  407.589996  418.630005  406.149994  409.989990   \n",
              "2022-10-11 2022-10-11  405.660004  416.160004  405.660004  411.059998   \n",
              "2022-10-12 2022-10-12  406.929993  408.899994  397.140015  397.420013   \n",
              "2022-10-13 2022-10-13  393.000000  407.049988  391.220001  405.959991   \n",
              "2022-10-14 2022-10-14  404.329987  405.380005  388.100006  389.410004   \n",
              "\n",
              "             Adj Close   Volume  \n",
              "Date                             \n",
              "2021-11-15  329.471100  1068600  \n",
              "2021-11-16  328.939514  1307500  \n",
              "2021-11-17  330.505096  1751000  \n",
              "2021-11-18  330.592102  1431300  \n",
              "2021-11-19  329.973572  1426500  \n",
              "...                ...      ...  \n",
              "2022-10-10  407.449249  1112500  \n",
              "2022-10-11  408.512634  1013600  \n",
              "2022-10-12  394.957153   921700  \n",
              "2022-10-13  403.444214  1012700  \n",
              "2022-10-14  386.996796  1369100  \n",
              "\n",
              "[231 rows x 7 columns]"
            ],
            "text/html": [
              "\n",
              "  <div id=\"df-db9d0805-d065-4666-82f3-981a17c95f6a\">\n",
              "    <div class=\"colab-df-container\">\n",
              "      <div>\n",
              "<style scoped>\n",
              "    .dataframe tbody tr th:only-of-type {\n",
              "        vertical-align: middle;\n",
              "    }\n",
              "\n",
              "    .dataframe tbody tr th {\n",
              "        vertical-align: top;\n",
              "    }\n",
              "\n",
              "    .dataframe thead th {\n",
              "        text-align: right;\n",
              "    }\n",
              "</style>\n",
              "<table border=\"1\" class=\"dataframe\">\n",
              "  <thead>\n",
              "    <tr style=\"text-align: right;\">\n",
              "      <th></th>\n",
              "      <th>Date</th>\n",
              "      <th>Open</th>\n",
              "      <th>High</th>\n",
              "      <th>Low</th>\n",
              "      <th>Close</th>\n",
              "      <th>Adj Close</th>\n",
              "      <th>Volume</th>\n",
              "    </tr>\n",
              "    <tr>\n",
              "      <th>Date</th>\n",
              "      <th></th>\n",
              "      <th></th>\n",
              "      <th></th>\n",
              "      <th></th>\n",
              "      <th></th>\n",
              "      <th></th>\n",
              "      <th></th>\n",
              "    </tr>\n",
              "  </thead>\n",
              "  <tbody>\n",
              "    <tr>\n",
              "      <th>2021-11-15</th>\n",
              "      <td>2021-11-15</td>\n",
              "      <td>339.549988</td>\n",
              "      <td>341.649994</td>\n",
              "      <td>339.429993</td>\n",
              "      <td>340.920013</td>\n",
              "      <td>329.471100</td>\n",
              "      <td>1068600</td>\n",
              "    </tr>\n",
              "    <tr>\n",
              "      <th>2021-11-16</th>\n",
              "      <td>2021-11-16</td>\n",
              "      <td>341.890015</td>\n",
              "      <td>343.640015</td>\n",
              "      <td>339.760010</td>\n",
              "      <td>340.369995</td>\n",
              "      <td>328.939514</td>\n",
              "      <td>1307500</td>\n",
              "    </tr>\n",
              "    <tr>\n",
              "      <th>2021-11-17</th>\n",
              "      <td>2021-11-17</td>\n",
              "      <td>339.480011</td>\n",
              "      <td>343.549988</td>\n",
              "      <td>339.480011</td>\n",
              "      <td>341.989990</td>\n",
              "      <td>330.505096</td>\n",
              "      <td>1751000</td>\n",
              "    </tr>\n",
              "    <tr>\n",
              "      <th>2021-11-18</th>\n",
              "      <td>2021-11-18</td>\n",
              "      <td>342.720001</td>\n",
              "      <td>343.109985</td>\n",
              "      <td>340.209991</td>\n",
              "      <td>342.079987</td>\n",
              "      <td>330.592102</td>\n",
              "      <td>1431300</td>\n",
              "    </tr>\n",
              "    <tr>\n",
              "      <th>2021-11-19</th>\n",
              "      <td>2021-11-19</td>\n",
              "      <td>340.880005</td>\n",
              "      <td>343.000000</td>\n",
              "      <td>339.350006</td>\n",
              "      <td>341.440002</td>\n",
              "      <td>329.973572</td>\n",
              "      <td>1426500</td>\n",
              "    </tr>\n",
              "    <tr>\n",
              "      <th>...</th>\n",
              "      <td>...</td>\n",
              "      <td>...</td>\n",
              "      <td>...</td>\n",
              "      <td>...</td>\n",
              "      <td>...</td>\n",
              "      <td>...</td>\n",
              "      <td>...</td>\n",
              "    </tr>\n",
              "    <tr>\n",
              "      <th>2022-10-10</th>\n",
              "      <td>2022-10-10</td>\n",
              "      <td>407.589996</td>\n",
              "      <td>418.630005</td>\n",
              "      <td>406.149994</td>\n",
              "      <td>409.989990</td>\n",
              "      <td>407.449249</td>\n",
              "      <td>1112500</td>\n",
              "    </tr>\n",
              "    <tr>\n",
              "      <th>2022-10-11</th>\n",
              "      <td>2022-10-11</td>\n",
              "      <td>405.660004</td>\n",
              "      <td>416.160004</td>\n",
              "      <td>405.660004</td>\n",
              "      <td>411.059998</td>\n",
              "      <td>408.512634</td>\n",
              "      <td>1013600</td>\n",
              "    </tr>\n",
              "    <tr>\n",
              "      <th>2022-10-12</th>\n",
              "      <td>2022-10-12</td>\n",
              "      <td>406.929993</td>\n",
              "      <td>408.899994</td>\n",
              "      <td>397.140015</td>\n",
              "      <td>397.420013</td>\n",
              "      <td>394.957153</td>\n",
              "      <td>921700</td>\n",
              "    </tr>\n",
              "    <tr>\n",
              "      <th>2022-10-13</th>\n",
              "      <td>2022-10-13</td>\n",
              "      <td>393.000000</td>\n",
              "      <td>407.049988</td>\n",
              "      <td>391.220001</td>\n",
              "      <td>405.959991</td>\n",
              "      <td>403.444214</td>\n",
              "      <td>1012700</td>\n",
              "    </tr>\n",
              "    <tr>\n",
              "      <th>2022-10-14</th>\n",
              "      <td>2022-10-14</td>\n",
              "      <td>404.329987</td>\n",
              "      <td>405.380005</td>\n",
              "      <td>388.100006</td>\n",
              "      <td>389.410004</td>\n",
              "      <td>386.996796</td>\n",
              "      <td>1369100</td>\n",
              "    </tr>\n",
              "  </tbody>\n",
              "</table>\n",
              "<p>231 rows × 7 columns</p>\n",
              "</div>\n",
              "      <button class=\"colab-df-convert\" onclick=\"convertToInteractive('df-db9d0805-d065-4666-82f3-981a17c95f6a')\"\n",
              "              title=\"Convert this dataframe to an interactive table.\"\n",
              "              style=\"display:none;\">\n",
              "        \n",
              "  <svg xmlns=\"http://www.w3.org/2000/svg\" height=\"24px\"viewBox=\"0 0 24 24\"\n",
              "       width=\"24px\">\n",
              "    <path d=\"M0 0h24v24H0V0z\" fill=\"none\"/>\n",
              "    <path d=\"M18.56 5.44l.94 2.06.94-2.06 2.06-.94-2.06-.94-.94-2.06-.94 2.06-2.06.94zm-11 1L8.5 8.5l.94-2.06 2.06-.94-2.06-.94L8.5 2.5l-.94 2.06-2.06.94zm10 10l.94 2.06.94-2.06 2.06-.94-2.06-.94-.94-2.06-.94 2.06-2.06.94z\"/><path d=\"M17.41 7.96l-1.37-1.37c-.4-.4-.92-.59-1.43-.59-.52 0-1.04.2-1.43.59L10.3 9.45l-7.72 7.72c-.78.78-.78 2.05 0 2.83L4 21.41c.39.39.9.59 1.41.59.51 0 1.02-.2 1.41-.59l7.78-7.78 2.81-2.81c.8-.78.8-2.07 0-2.86zM5.41 20L4 18.59l7.72-7.72 1.47 1.35L5.41 20z\"/>\n",
              "  </svg>\n",
              "      </button>\n",
              "      \n",
              "  <style>\n",
              "    .colab-df-container {\n",
              "      display:flex;\n",
              "      flex-wrap:wrap;\n",
              "      gap: 12px;\n",
              "    }\n",
              "\n",
              "    .colab-df-convert {\n",
              "      background-color: #E8F0FE;\n",
              "      border: none;\n",
              "      border-radius: 50%;\n",
              "      cursor: pointer;\n",
              "      display: none;\n",
              "      fill: #1967D2;\n",
              "      height: 32px;\n",
              "      padding: 0 0 0 0;\n",
              "      width: 32px;\n",
              "    }\n",
              "\n",
              "    .colab-df-convert:hover {\n",
              "      background-color: #E2EBFA;\n",
              "      box-shadow: 0px 1px 2px rgba(60, 64, 67, 0.3), 0px 1px 3px 1px rgba(60, 64, 67, 0.15);\n",
              "      fill: #174EA6;\n",
              "    }\n",
              "\n",
              "    [theme=dark] .colab-df-convert {\n",
              "      background-color: #3B4455;\n",
              "      fill: #D2E3FC;\n",
              "    }\n",
              "\n",
              "    [theme=dark] .colab-df-convert:hover {\n",
              "      background-color: #434B5C;\n",
              "      box-shadow: 0px 1px 3px 1px rgba(0, 0, 0, 0.15);\n",
              "      filter: drop-shadow(0px 1px 2px rgba(0, 0, 0, 0.3));\n",
              "      fill: #FFFFFF;\n",
              "    }\n",
              "  </style>\n",
              "\n",
              "      <script>\n",
              "        const buttonEl =\n",
              "          document.querySelector('#df-db9d0805-d065-4666-82f3-981a17c95f6a button.colab-df-convert');\n",
              "        buttonEl.style.display =\n",
              "          google.colab.kernel.accessAllowed ? 'block' : 'none';\n",
              "\n",
              "        async function convertToInteractive(key) {\n",
              "          const element = document.querySelector('#df-db9d0805-d065-4666-82f3-981a17c95f6a');\n",
              "          const dataTable =\n",
              "            await google.colab.kernel.invokeFunction('convertToInteractive',\n",
              "                                                     [key], {});\n",
              "          if (!dataTable) return;\n",
              "\n",
              "          const docLinkHtml = 'Like what you see? Visit the ' +\n",
              "            '<a target=\"_blank\" href=https://colab.research.google.com/notebooks/data_table.ipynb>data table notebook</a>'\n",
              "            + ' to learn more about interactive tables.';\n",
              "          element.innerHTML = '';\n",
              "          dataTable['output_type'] = 'display_data';\n",
              "          await google.colab.output.renderOutput(dataTable, element);\n",
              "          const docLink = document.createElement('div');\n",
              "          docLink.innerHTML = docLinkHtml;\n",
              "          element.appendChild(docLink);\n",
              "        }\n",
              "      </script>\n",
              "    </div>\n",
              "  </div>\n",
              "  "
            ]
          },
          "metadata": {},
          "execution_count": 78
        }
      ]
    },
    {
      "cell_type": "code",
      "source": [
        "stock_data=stock_data.reset_index()"
      ],
      "metadata": {
        "id": "lFKup03M1f50"
      },
      "execution_count": 64,
      "outputs": []
    },
    {
      "cell_type": "code",
      "source": [
        "stock_data[\"Date\"]=pd.to_datetime(stock_data.Date,format=\"%Y-%m-%d\")\n",
        "stock_data.index=stock_data['Date']"
      ],
      "metadata": {
        "id": "vyjJMIzcwwmZ"
      },
      "execution_count": 65,
      "outputs": []
    },
    {
      "cell_type": "code",
      "source": [
        "plt.figure(figsize=(16,8))\n",
        "plt.plot(stock_data[\"Close\"],label='Close Price history')"
      ],
      "metadata": {
        "colab": {
          "base_uri": "https://localhost:8080/",
          "height": 500
        },
        "id": "xT5S6cPDvtAZ",
        "outputId": "be698885-ae10-45d3-dc95-6e718598e059"
      },
      "execution_count": 66,
      "outputs": [
        {
          "output_type": "execute_result",
          "data": {
            "text/plain": [
              "[<matplotlib.lines.Line2D at 0x7fe1f7ae43d0>]"
            ]
          },
          "metadata": {},
          "execution_count": 66
        },
        {
          "output_type": "display_data",
          "data": {
            "text/plain": [
              "<Figure size 1152x576 with 1 Axes>"
            ],
            "image/png": "[encoded data removed]"
          },
          "metadata": {
            "needs_background": "light"
          }
        }
      ]
    },
    {
      "cell_type": "code",
      "source": [
        "data=stock_data.sort_index(ascending=True,axis=0)\n",
        "new_dataset=pd.DataFrame(index=range(0,len(stock_data)),columns=['Date','Close'])"
      ],
      "metadata": {
        "id": "JodoNrMgv_1z"
      },
      "execution_count": 67,
      "outputs": []
    },
    {
      "cell_type": "code",
      "source": [
        "for i in range(0,len(data)):\n",
        "    new_dataset[\"Date\"][i]=data['Date'][i]\n",
        "    new_dataset[\"Close\"][i]=data[\"Close\"][i]"
      ],
      "metadata": {
        "id": "Vslvf4JvwJcr"
      },
      "execution_count": 68,
      "outputs": []
    },
    {
      "cell_type": "code",
      "source": [
        "scaler=MinMaxScaler(feature_range=(0,1))\n",
        "\n",
        "train_data=final_dataset[0:160,:]\n",
        "valid_data=final_dataset[160:,:]"
      ],
      "metadata": {
        "id": "MudcdQbN1_TP"
      },
      "execution_count": 69,
      "outputs": []
    },
    {
      "cell_type": "code",
      "source": [
        "new_dataset.index=new_dataset[\"Date\"]\n",
        "new_dataset.drop(\"Date\",axis=1,inplace=True)\n",
        "\n",
        "final_dataset=new_dataset.values\n",
        "scaler=MinMaxScaler(feature_range=(0,1))\n"
      ],
      "metadata": {
        "id": "oL7MH_NZ7oft"
      },
      "execution_count": 70,
      "outputs": []
    },
    {
      "cell_type": "code",
      "source": [
        "scaled_data=scaler.fit_transform(final_dataset)\n",
        "\n",
        "x_train_data,y_train_data=[],[]\n",
        "\n",
        "for i in range(60,len(train_data)):\n",
        "    x_train_data.append(scaled_data[i-60:i,0])\n",
        "    y_train_data.append(scaled_data[i,0])\n",
        "    \n",
        "x_train_data,y_train_data=np.array(x_train_data),np.array(y_train_data)\n",
        "\n",
        "x_train_data=np.reshape(x_train_data,(x_train_data.shape[0],x_train_data.shape[1],1))"
      ],
      "metadata": {
        "id": "ToyILtQf7388"
      },
      "execution_count": 71,
      "outputs": []
    },
    {
      "cell_type": "code",
      "source": [
        "lstm_model=Sequential()\n",
        "lstm_model.add(LSTM(units=50,return_sequences=True,input_shape=(x_train_data.shape[1],1)))\n",
        "lstm_model.add(LSTM(units=50))\n",
        "lstm_model.add(Dense(1))\n",
        "\n",
        "inputs_data=new_dataset[len(new_dataset)-len(valid_data)-60:].values\n",
        "inputs_data=inputs_data.reshape(-1,1)\n",
        "inputs_data=scaler.transform(inputs_data)\n",
        "\n",
        "lstm_model.compile(loss='mean_squared_error',optimizer='adam')\n",
        "lstm_model.fit(x_train_data,y_train_data,epochs=1,batch_size=1,verbose=2)"
      ],
      "metadata": {
        "colab": {
          "base_uri": "https://localhost:8080/"
        },
        "id": "dvmgVtVkFbyn",
        "outputId": "9e5c8d37-eaaf-496b-fe76-e808d781e8ac"
      },
      "execution_count": 72,
      "outputs": [
        {
          "output_type": "stream",
          "name": "stdout",
          "text": [
            "100/100 - 5s - loss: 0.0380 - 5s/epoch - 50ms/step\n"
          ]
        },
        {
          "output_type": "execute_result",
          "data": {
            "text/plain": [
              "<keras.callbacks.History at 0x7fe1fca01f40>"
            ]
          },
          "metadata": {},
          "execution_count": 72
        }
      ]
    },
    {
      "cell_type": "code",
      "source": [
        "X_test=[]\n",
        "for i in range(60,inputs_data.shape[0]):\n",
        "    X_test.append(inputs_data[i-60:i,0])\n",
        "X_test=np.array(X_test)\n",
        "\n",
        "X_test=np.reshape(X_test,(X_test.shape[0],X_test.shape[1],1))\n",
        "predicted_closing_price=lstm_model.predict(X_test)\n",
        "predicted_closing_price=scaler.inverse_transform(predicted_closing_price)"
      ],
      "metadata": {
        "id": "ABhpBTd8FqoG",
        "colab": {
          "base_uri": "https://localhost:8080/"
        },
        "outputId": "032f82ca-59fe-494e-f70e-a5d7e80f48e9"
      },
      "execution_count": 73,
      "outputs": [
        {
          "output_type": "stream",
          "name": "stdout",
          "text": [
            "3/3 [==============================] - 2s 33ms/step\n"
          ]
        }
      ]
    },
    {
      "cell_type": "code",
      "source": [
        "lstm_model.save(\"saved_model.h5\")"
      ],
      "metadata": {
        "id": "XOP9rfFpIrn3"
      },
      "execution_count": 75,
      "outputs": []
    },
    {
      "cell_type": "code",
      "source": [
        "train_data=new_dataset[:160]\n",
        "valid_data=new_dataset[160:]\n",
        "valid_data['Predictions']=predicted_closing_price\n",
        "plt.plot(train_data[\"Close\"])\n",
        "plt.plot(valid_data[['Close',\"Predictions\"]])"
      ],
      "metadata": {
        "colab": {
          "base_uri": "https://localhost:8080/",
          "height": 731
        },
        "id": "qgvrKUKtJEL6",
        "outputId": "63be8ac1-7726-4c31-c202-73696a347460"
      },
      "execution_count": 77,
      "outputs": [
        {
          "output_type": "stream",
          "name": "stderr",
          "text": [
            "<ipython-input-77-e0fd45caab64>:3: SettingWithCopyWarning: \n",
            "A value is trying to be set on a copy of a slice from a DataFrame.\n",
            "Try using .loc[row_indexer,col_indexer] = value instead\n",
            "\n",
            "See the caveats in the documentation: https://pandas.pydata.org/pandas-docs/stable/user_guide/indexing.html#returning-a-view-versus-a-copy\n",
            "  valid_data['Predictions']=predicted_closing_price\n"
          ]
        },
        {
          "output_type": "execute_result",
          "data": {
            "text/plain": [
              "[<matplotlib.lines.Line2D at 0x7fe1f5a5c910>,\n",
              " <matplotlib.lines.Line2D at 0x7fe1f5a5ca90>]"
            ]
          },
          "metadata": {},
          "execution_count": 77
        },
        {
          "output_type": "display_data",
          "data": {
            "text/plain": [
              "<Figure size 1440x720 with 1 Axes>"
            ],
            "image/png": "[encoded data removed]"
          },
          "metadata": {
            "needs_background": "light"
          }
        }
      ]
    },
    {
      "cell_type": "code",
      "source": [],
      "metadata": {
        "id": "0Mn_i7PhJTCO"
      },
      "execution_count": null,
      "outputs": []
    }
  ]
}